{
  "nbformat": 4,
  "nbformat_minor": 0,
  "metadata": {
    "colab": {
      "name": "Cogs118B_final_project.ipynb",
      "provenance": [],
      "collapsed_sections": [],
      "toc_visible": true,
      "include_colab_link": true
    },
    "kernelspec": {
      "name": "python3",
      "display_name": "Python 3"
    },
    "language_info": {
      "name": "python"
    }
  },
  "cells": [
    {
      "cell_type": "markdown",
      "metadata": {
        "id": "view-in-github",
        "colab_type": "text"
      },
      "source": [
        "<a href=\"https://colab.research.google.com/github/pmazumder3927/COGS-118B-Final/blob/main/Cogs118B_final_project.ipynb\" target=\"_parent\"><img src=\"https://colab.research.google.com/assets/colab-badge.svg\" alt=\"Open In Colab\"/></a>"
      ]
    },
    {
      "cell_type": "code",
      "execution_count": null,
      "metadata": {
        "id": "YPMohXNEgKUe"
      },
      "outputs": [],
      "source": [
        "import numpy as np\n",
        "import scipy\n",
        "from scipy.stats import multivariate_normal\n",
        "import matplotlib.pyplot as plt\n",
        "import pandas as pd\n",
        "from sklearn.preprocessing import normalize"
      ]
    },
    {
      "cell_type": "markdown",
      "source": [
        "# Utility functions"
      ],
      "metadata": {
        "id": "rM0dSJh8NmD_"
      }
    },
    {
      "cell_type": "code",
      "source": [
        "# [Vsort,Dsort] = eigsort(V, eigvals)\n",
        "#\n",
        "# Sorts a matrix eigenvectors and a array of eigenvalues in order \n",
        "# of eigenvalue size, largest eigenvalue first and smallest eigenvalue\n",
        "# last.\n",
        "#\n",
        "# Example usage:\n",
        "# di, V = np.linarg.eig(L)\n",
        "# Vnew, Dnew = eigsort(V, di)\n",
        "#\n",
        "# Tim Marks 2002\n",
        "def eigsort(V, eigvals):\n",
        "    \n",
        "    # Sort the eigenvalues from largest to smallest. Store the sorted\n",
        "    # eigenvalues in the column vector lambd.\n",
        "    lohival = np.sort(eigvals)\n",
        "    lohiindex = np.argsort(eigvals)\n",
        "    lambd = np.flip(lohival)\n",
        "    index = np.flip(lohiindex)\n",
        "    Dsort = np.diag(lambd)\n",
        "    \n",
        "    # Sort eigenvectors to correspond to the ordered eigenvalues. Store sorted\n",
        "    # eigenvectors as columns of the matrix vsort.\n",
        "    M = np.size(lambd)\n",
        "    Vsort = np.zeros((M, M))\n",
        "    for i in range(M):\n",
        "        Vsort[:,i] = V[:,index[i]]\n",
        "    return Vsort, Dsort"
      ],
      "metadata": {
        "id": "mKEFzBSyMhgf"
      },
      "execution_count": null,
      "outputs": []
    },
    {
      "cell_type": "code",
      "source": [
        "# viewcolumn(columnvector);\n",
        "# VIEWCOLUMN Displays a 60 x 60 grayscale image stored in a column vector.\n",
        "# Tim Marks 2002\n",
        "\n",
        "def viewcolumn(columnvector):\n",
        "    plt.imshow(columnvector.reshape([60, 60], order='F'), cmap=plt.get_cmap('gray'))\n",
        "# normc(M) normalizes the columns of M to a length of 1.\n",
        "\n",
        "def normc(Mat):\n",
        "    return normalize(Mat, norm='l2', axis=0)"
      ],
      "metadata": {
        "id": "YNtYwEe9NIl9"
      },
      "execution_count": null,
      "outputs": []
    },
    {
      "cell_type": "code",
      "source": [
        "def plotCurrent(X, Rnk, Kmus):\n",
        "    N, D = X.shape\n",
        "    K = Kmus.shape[0]\n",
        "\n",
        "    InitColorMat = np.array([[1, 0, 0],\n",
        "                             [0, 1, 0],\n",
        "                             [0, 0, 1],\n",
        "                             [0, 0, 0],\n",
        "                             [1, 1, 0],\n",
        "                             [1, 0, 1],\n",
        "                             [0, 1, 1]])\n",
        "\n",
        "    KColorMat = InitColorMat[0:K,:]\n",
        "\n",
        "    colorVec = np.dot(Rnk, KColorMat)\n",
        "    muColorVec = np.dot(np.eye(K), KColorMat)\n",
        "    plt.scatter(X[:,0], X[:,1], c=colorVec)\n",
        "\n",
        "    plt.scatter(Kmus[:,0], Kmus[:,1], s=200, c=muColorVec, marker='d')\n",
        "    plt.axis('equal')\n",
        "    plt.show()"
      ],
      "metadata": {
        "id": "3glOzK_dN9uf"
      },
      "execution_count": null,
      "outputs": []
    },
    {
      "cell_type": "code",
      "source": [
        "def plotCurrentGMM(X, Rnk, Kmus, sigma):\n",
        "    N, D = X.shape\n",
        "    K = Kmus.shape[0]\n",
        "\n",
        "    InitColorMat = np.array([[1, 0, 0],\n",
        "                             [0, 1, 0],\n",
        "                             [0, 0, 1],\n",
        "                             [0, 0, 0],\n",
        "                             [1, 1, 0],\n",
        "                             [1, 0, 1],\n",
        "                             [0, 1, 1]])\n",
        "\n",
        "    KColorMat = InitColorMat[0:K,:]\n",
        "\n",
        "    colorVec = np.dot(Rnk, KColorMat)\n",
        "    muColorVec = np.dot(np.eye(K), KColorMat)\n",
        "    plt.figure(figsize=(10,10))\n",
        "    ax = plt.gca()\n",
        "    x,y = np.meshgrid(np.sort(X[:,0]),np.sort(X[:,1]))\n",
        "    XY = np.array([x.flatten(),y.flatten()]).T\n",
        "    plt.title(\"EM Final Clustering\")\n",
        "    for m,c in zip(Kmus, sigma):\n",
        "        multi_normal = multivariate_normal(mean=m,cov=c)\n",
        "        cnt = ax.contourf(np.sort(X[:,0]),np.sort(X[:,1]),multi_normal.pdf(XY).reshape(len(X),len(X)),alpha=0.3,levels=np.arange(0,1, 0.1), antialiased=True)\n",
        "        ax.scatter(m[0],m[1],c='grey',zorder=10,s=100)\n",
        "    plt.scatter(X[:,0], X[:,1], c=colorVec)\n",
        "    plt.scatter(Kmus[:,0], Kmus[:,1], c=muColorVec, marker='d')\n",
        "    plt.show()\n",
        "    return r"
      ],
      "metadata": {
        "id": "0QBAoYNeoYzj"
      },
      "execution_count": null,
      "outputs": []
    },
    {
      "cell_type": "markdown",
      "source": [
        "# Loading/preprocessing data"
      ],
      "metadata": {
        "id": "W2SkQ_aINanq"
      }
    },
    {
      "cell_type": "code",
      "source": [
        "use_h_not_c = False"
      ],
      "metadata": {
        "id": "OMmBtNRcX1qk"
      },
      "execution_count": null,
      "outputs": []
    },
    {
      "cell_type": "code",
      "source": [
        "heart_df = pd.read_csv('https://pastebin.com/raw/eUiVmczJ' if use_h_not_c else 'https://pastebin.com/raw/ig1Mktq2')\n",
        "heart_df"
      ],
      "metadata": {
        "colab": {
          "base_uri": "https://localhost:8080/",
          "height": 424
        },
        "id": "QMUVMHhiKWfZ",
        "outputId": "d84b5c71-6e0a-47e2-ea02-4447f023c376"
      },
      "execution_count": null,
      "outputs": [
        {
          "output_type": "execute_result",
          "data": {
            "text/html": [
              "\n",
              "  <div id=\"df-eea92191-5014-4199-b5ea-4cd4ba0f436d\">\n",
              "    <div class=\"colab-df-container\">\n",
              "      <div>\n",
              "<style scoped>\n",
              "    .dataframe tbody tr th:only-of-type {\n",
              "        vertical-align: middle;\n",
              "    }\n",
              "\n",
              "    .dataframe tbody tr th {\n",
              "        vertical-align: top;\n",
              "    }\n",
              "\n",
              "    .dataframe thead th {\n",
              "        text-align: right;\n",
              "    }\n",
              "</style>\n",
              "<table border=\"1\" class=\"dataframe\">\n",
              "  <thead>\n",
              "    <tr style=\"text-align: right;\">\n",
              "      <th></th>\n",
              "      <th>CustomerID</th>\n",
              "      <th>Gender</th>\n",
              "      <th>Age</th>\n",
              "      <th>Annual Income (k$)</th>\n",
              "      <th>Spending Score (1-100)</th>\n",
              "    </tr>\n",
              "  </thead>\n",
              "  <tbody>\n",
              "    <tr>\n",
              "      <th>0</th>\n",
              "      <td>1</td>\n",
              "      <td>Male</td>\n",
              "      <td>19</td>\n",
              "      <td>15</td>\n",
              "      <td>39</td>\n",
              "    </tr>\n",
              "    <tr>\n",
              "      <th>1</th>\n",
              "      <td>2</td>\n",
              "      <td>Male</td>\n",
              "      <td>21</td>\n",
              "      <td>15</td>\n",
              "      <td>81</td>\n",
              "    </tr>\n",
              "    <tr>\n",
              "      <th>2</th>\n",
              "      <td>3</td>\n",
              "      <td>Female</td>\n",
              "      <td>20</td>\n",
              "      <td>16</td>\n",
              "      <td>6</td>\n",
              "    </tr>\n",
              "    <tr>\n",
              "      <th>3</th>\n",
              "      <td>4</td>\n",
              "      <td>Female</td>\n",
              "      <td>23</td>\n",
              "      <td>16</td>\n",
              "      <td>77</td>\n",
              "    </tr>\n",
              "    <tr>\n",
              "      <th>4</th>\n",
              "      <td>5</td>\n",
              "      <td>Female</td>\n",
              "      <td>31</td>\n",
              "      <td>17</td>\n",
              "      <td>40</td>\n",
              "    </tr>\n",
              "    <tr>\n",
              "      <th>...</th>\n",
              "      <td>...</td>\n",
              "      <td>...</td>\n",
              "      <td>...</td>\n",
              "      <td>...</td>\n",
              "      <td>...</td>\n",
              "    </tr>\n",
              "    <tr>\n",
              "      <th>195</th>\n",
              "      <td>196</td>\n",
              "      <td>Female</td>\n",
              "      <td>35</td>\n",
              "      <td>120</td>\n",
              "      <td>79</td>\n",
              "    </tr>\n",
              "    <tr>\n",
              "      <th>196</th>\n",
              "      <td>197</td>\n",
              "      <td>Female</td>\n",
              "      <td>45</td>\n",
              "      <td>126</td>\n",
              "      <td>28</td>\n",
              "    </tr>\n",
              "    <tr>\n",
              "      <th>197</th>\n",
              "      <td>198</td>\n",
              "      <td>Male</td>\n",
              "      <td>32</td>\n",
              "      <td>126</td>\n",
              "      <td>74</td>\n",
              "    </tr>\n",
              "    <tr>\n",
              "      <th>198</th>\n",
              "      <td>199</td>\n",
              "      <td>Male</td>\n",
              "      <td>32</td>\n",
              "      <td>137</td>\n",
              "      <td>18</td>\n",
              "    </tr>\n",
              "    <tr>\n",
              "      <th>199</th>\n",
              "      <td>200</td>\n",
              "      <td>Male</td>\n",
              "      <td>30</td>\n",
              "      <td>137</td>\n",
              "      <td>83</td>\n",
              "    </tr>\n",
              "  </tbody>\n",
              "</table>\n",
              "<p>200 rows × 5 columns</p>\n",
              "</div>\n",
              "      <button class=\"colab-df-convert\" onclick=\"convertToInteractive('df-eea92191-5014-4199-b5ea-4cd4ba0f436d')\"\n",
              "              title=\"Convert this dataframe to an interactive table.\"\n",
              "              style=\"display:none;\">\n",
              "        \n",
              "  <svg xmlns=\"http://www.w3.org/2000/svg\" height=\"24px\"viewBox=\"0 0 24 24\"\n",
              "       width=\"24px\">\n",
              "    <path d=\"M0 0h24v24H0V0z\" fill=\"none\"/>\n",
              "    <path d=\"M18.56 5.44l.94 2.06.94-2.06 2.06-.94-2.06-.94-.94-2.06-.94 2.06-2.06.94zm-11 1L8.5 8.5l.94-2.06 2.06-.94-2.06-.94L8.5 2.5l-.94 2.06-2.06.94zm10 10l.94 2.06.94-2.06 2.06-.94-2.06-.94-.94-2.06-.94 2.06-2.06.94z\"/><path d=\"M17.41 7.96l-1.37-1.37c-.4-.4-.92-.59-1.43-.59-.52 0-1.04.2-1.43.59L10.3 9.45l-7.72 7.72c-.78.78-.78 2.05 0 2.83L4 21.41c.39.39.9.59 1.41.59.51 0 1.02-.2 1.41-.59l7.78-7.78 2.81-2.81c.8-.78.8-2.07 0-2.86zM5.41 20L4 18.59l7.72-7.72 1.47 1.35L5.41 20z\"/>\n",
              "  </svg>\n",
              "      </button>\n",
              "      \n",
              "  <style>\n",
              "    .colab-df-container {\n",
              "      display:flex;\n",
              "      flex-wrap:wrap;\n",
              "      gap: 12px;\n",
              "    }\n",
              "\n",
              "    .colab-df-convert {\n",
              "      background-color: #E8F0FE;\n",
              "      border: none;\n",
              "      border-radius: 50%;\n",
              "      cursor: pointer;\n",
              "      display: none;\n",
              "      fill: #1967D2;\n",
              "      height: 32px;\n",
              "      padding: 0 0 0 0;\n",
              "      width: 32px;\n",
              "    }\n",
              "\n",
              "    .colab-df-convert:hover {\n",
              "      background-color: #E2EBFA;\n",
              "      box-shadow: 0px 1px 2px rgba(60, 64, 67, 0.3), 0px 1px 3px 1px rgba(60, 64, 67, 0.15);\n",
              "      fill: #174EA6;\n",
              "    }\n",
              "\n",
              "    [theme=dark] .colab-df-convert {\n",
              "      background-color: #3B4455;\n",
              "      fill: #D2E3FC;\n",
              "    }\n",
              "\n",
              "    [theme=dark] .colab-df-convert:hover {\n",
              "      background-color: #434B5C;\n",
              "      box-shadow: 0px 1px 3px 1px rgba(0, 0, 0, 0.15);\n",
              "      filter: drop-shadow(0px 1px 2px rgba(0, 0, 0, 0.3));\n",
              "      fill: #FFFFFF;\n",
              "    }\n",
              "  </style>\n",
              "\n",
              "      <script>\n",
              "        const buttonEl =\n",
              "          document.querySelector('#df-eea92191-5014-4199-b5ea-4cd4ba0f436d button.colab-df-convert');\n",
              "        buttonEl.style.display =\n",
              "          google.colab.kernel.accessAllowed ? 'block' : 'none';\n",
              "\n",
              "        async function convertToInteractive(key) {\n",
              "          const element = document.querySelector('#df-eea92191-5014-4199-b5ea-4cd4ba0f436d');\n",
              "          const dataTable =\n",
              "            await google.colab.kernel.invokeFunction('convertToInteractive',\n",
              "                                                     [key], {});\n",
              "          if (!dataTable) return;\n",
              "\n",
              "          const docLinkHtml = 'Like what you see? Visit the ' +\n",
              "            '<a target=\"_blank\" href=https://colab.research.google.com/notebooks/data_table.ipynb>data table notebook</a>'\n",
              "            + ' to learn more about interactive tables.';\n",
              "          element.innerHTML = '';\n",
              "          dataTable['output_type'] = 'display_data';\n",
              "          await google.colab.output.renderOutput(dataTable, element);\n",
              "          const docLink = document.createElement('div');\n",
              "          docLink.innerHTML = docLinkHtml;\n",
              "          element.appendChild(docLink);\n",
              "        }\n",
              "      </script>\n",
              "    </div>\n",
              "  </div>\n",
              "  "
            ],
            "text/plain": [
              "     CustomerID  Gender  Age  Annual Income (k$)  Spending Score (1-100)\n",
              "0             1    Male   19                  15                      39\n",
              "1             2    Male   21                  15                      81\n",
              "2             3  Female   20                  16                       6\n",
              "3             4  Female   23                  16                      77\n",
              "4             5  Female   31                  17                      40\n",
              "..          ...     ...  ...                 ...                     ...\n",
              "195         196  Female   35                 120                      79\n",
              "196         197  Female   45                 126                      28\n",
              "197         198    Male   32                 126                      74\n",
              "198         199    Male   32                 137                      18\n",
              "199         200    Male   30                 137                      83\n",
              "\n",
              "[200 rows x 5 columns]"
            ]
          },
          "metadata": {},
          "execution_count": 297
        }
      ]
    },
    {
      "cell_type": "code",
      "source": [
        "heart_categorical_cols = ['Sex', 'ChestPainType', 'RestingECG', 'ExerciseAngina', 'ST_Slope'] if use_h_not_c else ['Gender']\n",
        "heart_drop_cols = ['HeartDisease'] if use_h_not_c else ['CustomerID']\n",
        "# flip this switch for testing\n",
        "use_categorical_cols = True\n",
        "\n",
        "if use_categorical_cols:\n",
        "  # one-hot encoding\n",
        "  heart_df_dummies = pd.get_dummies(heart_df, columns=heart_categorical_cols)\n",
        "  # remove the N from the binary categories\n",
        "  # heart_df_dummies.drop(['ExerciseAngina_N'])\n",
        "else:\n",
        "  heart_df_dummies = heart_df.drop(columns=heart_categorical_cols)\n",
        "\n",
        "heart_df_dummies = heart_df_dummies.drop(columns=heart_drop_cols)\n",
        "\n",
        "heart = heart_df_dummies.to_numpy()"
      ],
      "metadata": {
        "id": "KC-Be3dGF9iC"
      },
      "execution_count": null,
      "outputs": []
    },
    {
      "cell_type": "code",
      "source": [
        "heart_colnames = heart_df_dummies.columns\n",
        "heart_colnames"
      ],
      "metadata": {
        "colab": {
          "base_uri": "https://localhost:8080/"
        },
        "id": "LSzqku_aING_",
        "outputId": "9c403365-f74e-48ec-b1ef-674441e25705"
      },
      "execution_count": null,
      "outputs": [
        {
          "output_type": "execute_result",
          "data": {
            "text/plain": [
              "Index(['Age', 'Annual Income (k$)', 'Spending Score (1-100)', 'Gender_Female',\n",
              "       'Gender_Male'],\n",
              "      dtype='object')"
            ]
          },
          "metadata": {},
          "execution_count": 299
        }
      ]
    },
    {
      "cell_type": "markdown",
      "source": [
        "# Principal Component Analysis"
      ],
      "metadata": {
        "id": "12PtAe8uNfDT"
      }
    },
    {
      "cell_type": "code",
      "source": [
        "# perform PCA\n",
        "heart_mean = np.mean(heart, axis=0)\n",
        "heart_ctr = heart - heart_mean\n",
        "h_eigvals_uns, h_eigvecs_uns = np.linalg.eig(heart_ctr.T @ heart_ctr)\n",
        "h_eigvecs, h_eigvals_diagmat = eigsort(h_eigvecs_uns, h_eigvals_uns)\n",
        "h_eigvals_arr = np.diagonal(h_eigvals_diagmat)\n",
        "heart_pc = heart_ctr @ h_eigvecs\n",
        "heart_pc = normc(heart_pc)\n",
        "h_eigvals_arr"
      ],
      "metadata": {
        "colab": {
          "base_uri": "https://localhost:8080/"
        },
        "id": "zU3293PbNyxG",
        "outputId": "262ee142-1e86-4802-bc65-b588a5122079"
      },
      "execution_count": null,
      "outputs": [
        {
          "output_type": "execute_result",
          "data": {
            "text/plain": [
              "array([1.39352637e+05, 1.36182376e+05, 3.32786186e+04, 9.77079704e+01,\n",
              "       6.43109871e-13])"
            ]
          },
          "metadata": {},
          "execution_count": 300
        }
      ]
    },
    {
      "cell_type": "code",
      "source": [
        "# scree plot\n",
        "plt.plot(h_eigvals_arr, marker=\".\")\n",
        "plt.xticks(range(h_eigvals_arr.shape[0]))\n",
        "plt.title(\"Scree plot for PCA of unlabeled heart data\")\n",
        "plt.xlabel(\"index of eigenvalue (sorted descending)\")\n",
        "plt.ylabel(\"eigenvalue\")\n",
        "plt.show()"
      ],
      "metadata": {
        "colab": {
          "base_uri": "https://localhost:8080/",
          "height": 295
        },
        "id": "f4FAryiGJo_b",
        "outputId": "2e08f46c-29de-4b9a-dc8c-deb4aad0d5a1"
      },
      "execution_count": null,
      "outputs": [
        {
          "output_type": "display_data",
          "data": {
            "image/png": "[encoded data removed]",
            "text/plain": [
              "<Figure size 432x288 with 1 Axes>"
            ]
          },
          "metadata": {
            "needs_background": "light"
          }
        }
      ]
    },
    {
      "cell_type": "code",
      "source": [
        "# visualize the first 2 principal components\n",
        "plt.scatter(heart_pc.T[0], heart_pc.T[1], marker=\".\")\n",
        "plt.title(\"data in principal component coordinates\")\n",
        "plt.xlabel(\"first principal component\")\n",
        "plt.ylabel(\"second principal component\")\n",
        "plt.show()"
      ],
      "metadata": {
        "colab": {
          "base_uri": "https://localhost:8080/",
          "height": 295
        },
        "id": "djVNuBLyM374",
        "outputId": "669ef14c-0c3d-4e0d-fd9e-12608f8090d3"
      },
      "execution_count": null,
      "outputs": [
        {
          "output_type": "display_data",
          "data": {
            "image/png": "[encoded data removed]",
            "text/plain": [
              "<Figure size 432x288 with 1 Axes>"
            ]
          },
          "metadata": {
            "needs_background": "light"
          }
        }
      ]
    },
    {
      "cell_type": "markdown",
      "source": [
        "# Gaussian Mixture Model"
      ],
      "metadata": {
        "id": "-bAJa0dH6GAX"
      }
    },
    {
      "cell_type": "markdown",
      "source": [
        "## K-Means and GMM functions"
      ],
      "metadata": {
        "id": "Mt9LgxZ4M6wz"
      }
    },
    {
      "cell_type": "code",
      "source": [
        "# functions for runKmeans, necessary to find initial Kmus for running GMM\n",
        "\n",
        "def calcSqDistances(X, Kmus):\n",
        "    N = len(X)\n",
        "    K = len(Kmus)\n",
        "\n",
        "    result = [ [0 for i in range(K)] for j in range(N) ]\n",
        "\n",
        "    for n in range(N):\n",
        "        for k in range(K):\n",
        "            squareDist = np.linalg.norm(X[n]-Kmus[k], 2) ** 2\n",
        "            result[n][k] = squareDist\n",
        "    return result\n",
        "\n",
        "def determineRnk(sqDmat):\n",
        "    result = np.full_like(sqDmat, 0)\n",
        "\n",
        "    for n in range(len(sqDmat)):\n",
        "        index_closestK = sqDmat[n].index(min(sqDmat[n]))\n",
        "        result[n][index_closestK] = 1\n",
        "    \n",
        "    return result\n",
        "\n",
        "def recalcMus(X, Rnk):\n",
        "    # Fill this\n",
        "    result = [0 for i in range(len(Rnk[0]))]\n",
        "\n",
        "    for k in range(len(Rnk[0])):\n",
        "        numerator = 0\n",
        "        denominator = 0\n",
        "        for n in range(len(Rnk)):\n",
        "            numerator += X[n] * Rnk[n][k]\n",
        "            denominator += Rnk[n][k]\n",
        "        result[k] = numerator/denominator\n",
        "\n",
        "    return np.asarray(result)\n",
        "\n",
        "def runKMeans(K,X ):\n",
        "    #load data file specified by fileString from Bishop book\n",
        "    # X = np.loadtxt(fileString, dtype='float')\n",
        "\n",
        "    #determine and store data set information\n",
        "    N, D = X.shape\n",
        "\n",
        "    #allocate space for the K mu vectors\n",
        "    Kmus = np.zeros((K, D))\n",
        "\n",
        "    #initialize cluster centers by randomly picking points from the data\n",
        "    rand_inds = np.random.permutation(N)\n",
        "    Kmus = X[rand_inds[0:K],:]\n",
        "\n",
        "    #specify the maximum number of iterations to allow\n",
        "    maxiters = 100000\n",
        "\n",
        "    for iter in range(maxiters):\n",
        "        #assign each data vector to closest mu vector as per Bishop (9.2)\n",
        "        #do this by first calculating a squared distance matrix where the n,k entry\n",
        "        #contains the squared distance from the nth data vector to the kth mu vector\n",
        "\n",
        "        #sqDmat will be an N-by-K matrix with the n,k entry as specfied above\n",
        "        sqDmat = calcSqDistances(X, Kmus)\n",
        "\n",
        "        #given the matrix of squared distances, determine the closest cluster\n",
        "        #center for each data vector\n",
        "\n",
        "        #R is the \"responsibility\" matrix\n",
        "        #R will be an N-by-K matrix of binary values whose n,k entry is set as\n",
        "        #per Bishop (9.2)\n",
        "        #Specifically, the n,k entry is 1 if point n is closest to cluster k,\n",
        "        #and is 0 otherwise\n",
        "        Rnk = determineRnk(sqDmat)\n",
        "\n",
        "        KmusOld = Kmus\n",
        "        # plotCurrent(X, Rnk, Kmus)\n",
        "        # time.sleep(1)\n",
        "\n",
        "        #recalculate mu values based on cluster assignments as per Bishop (9.4)\n",
        "        Kmus = recalcMus(X, Rnk)\n",
        "\n",
        "        #check to see if the cluster centers have converged.  If so, break.\n",
        "        if np.sum(np.abs(KmusOld.reshape((-1, 1)) - Kmus.reshape((-1, 1)))) < 1e-6:\n",
        "            # print(iter)\n",
        "            break\n",
        "\n",
        "    return Rnk, Kmus"
      ],
      "metadata": {
        "id": "ufWJkcag7xiC"
      },
      "execution_count": null,
      "outputs": []
    },
    {
      "cell_type": "code",
      "source": [
        "# helper functions and code to run Gaussian mixture model\n",
        "\n",
        "def calcRespons(X, N, D, K, mu, prior, cov):\n",
        "    # cov = np.diag(cov)\n",
        "    gamma = np.zeros((N, K), dtype=np.float32)\n",
        "    for cluster in range(K):\n",
        "        # pi_k * N(X; mu_k, cov_k)\n",
        "        # print(np.shape(mu))\n",
        "        for i in range(N):\n",
        "            # multivariatenorm = multivariate_normal.pdf(X[i], mu[cluster], cov[cluster])\n",
        "            # print(type(multivariatenorm))\n",
        "            gamma[i, cluster] = multivariate_normal.pdf(X[i], mu[cluster], cov[cluster]) * prior[cluster]\n",
        "    # divide by sum of pi_j * N(X; mu_j, cov_j)\n",
        "    gamma = np.divide(gamma, np.sum(gamma, axis=1, keepdims=True))\n",
        "    return gamma\n",
        "\n",
        "def recalcParams(X, gamma, N, D, K):\n",
        "    prior_new = np.sum(gamma, axis=0)/N\n",
        "\n",
        "    mu_new = np.divide(gamma.T @ X, np.sum(gamma, axis=0, keepdims=True).T)\n",
        "\n",
        "    cov_temp = np.zeros((K, D))\n",
        "    for cluster in range(K):\n",
        "        cov_temp = np.divide(gamma[:,cluster].T @ ((X - mu_new[cluster])*((X-mu_new[cluster]))), np.sum(gamma[:,cluster]))\n",
        "    cov_new = np.zeros((K, D, D))\n",
        "    for i in range(K):\n",
        "        cov_new[i] = np.diag(cov_temp)\n",
        "\n",
        "    return prior_new, mu_new, cov_new\n",
        "\n",
        "def runGMM(K, X):\n",
        "    #load data file specified by fileString from Bishop book\n",
        "    # X = np.loadtxt(fileString, dtype='float')\n",
        "\n",
        "    #determine and store data set information\n",
        "    N, D = X.shape\n",
        "\n",
        "    #initialize cluster centers by running Kmeans\n",
        "    Rnk, mu = runKMeans(K, X)\n",
        "\n",
        "    # initialize prior and covariance\n",
        "    prior = np.asarray([1/K]*K)\n",
        "    cov = np.zeros((K, D, D))\n",
        "    for i in range(K):\n",
        "        cov[i] = np.identity(D)# + np.array([0.1] * (D * D)).reshape((D,D))\n",
        "\n",
        "    #specify the maximum number of iterations to allow\n",
        "    maxiters = 1000\n",
        "    for iters in range(maxiters):\n",
        "        gamma = calcRespons(X, N, D, K, mu, prior, cov)\n",
        "        # plotCurrent(X, gamma, mu)\n",
        "        prior_new, mu_new, cov_new = recalcParams(X, gamma, N, D, K)\n",
        "\n",
        "        if np.linalg.norm(mu_new - mu) < 1e-3:\n",
        "            break\n",
        "\n",
        "        prior, mu, cov = prior_new, mu_new, cov_new\n",
        "\n",
        "    return prior_new, mu_new, cov_new, gamma"
      ],
      "metadata": {
        "id": "PBkOliVD8Wh9"
      },
      "execution_count": null,
      "outputs": []
    },
    {
      "cell_type": "code",
      "source": [
        "def expectation(X, pi, mu, sigma):\n",
        "    probabilities = np.array([pi_c*multivariate_normal(mean=mu_c, cov=sigma_c).pdf(X) for pi_c, mu_c, sigma_c in zip(pi, mu, sigma)])\n",
        "    return ( probabilities / np.sum(probabilities, axis=0) ).T\n",
        "\n",
        "def maximization(r, X, pi, mu, sigma, k):\n",
        "    # Returns the updated parameters given the current parameters and responsibilities\n",
        "    N = np.sum(r, axis=0)\n",
        "    pi = N / np.sum(r)\n",
        "    # mu = (np.apply_along_axis(lambda r: np.sum(X*r[:, np.newaxis], axis=0) / N, 0, r) ).T\n",
        "    mu = (r.T @ X)\n",
        "    for c in range(N.shape[0]):\n",
        "      mu[c] /= N[c]\n",
        "\n",
        "    sigma = np.array([ ((1/N[c])*np.dot((r[:,c][:, np.newaxis]*(X-mu[c])).T,(X-mu[c]))) for c in range(k)])\n",
        "    return pi, mu, sigma\n",
        "\n",
        "def runGMM(K,X, initialMus=None):\n",
        "    #determine and store data set information\n",
        "    N, D = X.shape\n",
        "\n",
        "    #allocate space for the K mu vectors\n",
        "    Kmus = np.zeros((K, D))\n",
        "\n",
        "    #initialize cluster centers by randomly picking points from the data, or by using the initialMus\n",
        "    if isinstance(initialMus, np.ndarray):\n",
        "        Kmus = np.array(initialMus)\n",
        "    else:\n",
        "        rand_inds = np.random.permutation(N)\n",
        "        Kmus = X[rand_inds[0:K],:]\n",
        "    pi = np.ones(K) / K\n",
        "    sigma = np.zeros((K, D, D))\n",
        "    for i in range(K):\n",
        "        np.fill_diagonal(sigma[i], 1)\n",
        "        # sigma[i] += np.array([0.01] * (D * D)).reshape((D,D))\n",
        "\n",
        "    #specify the maximum number of iterations to allow\n",
        "    maxiters = 1000\n",
        "\n",
        "    for iter in range(maxiters):\n",
        "        r = expectation(X, pi, Kmus, sigma)\n",
        "        pi, Kmus, sigma = maximization(r, X, pi, Kmus, sigma, K)\n",
        "        sigma = np.clip(sigma, 0, None)\n",
        "        for i in range(K):\n",
        "            sigma[i] += np.diag(0.001, D)\n",
        "    colors = np.argmax(r, axis=1)\n",
        "    plotCurrentGMM(X[:, 0:2], r, Kmus[:, 0:2], sigma[:, 0:2, 0:2])\n",
        "    return pi, Kmus, sigma, r"
      ],
      "metadata": {
        "id": "NZBZDaZreuQl"
      },
      "execution_count": null,
      "outputs": []
    },
    {
      "cell_type": "markdown",
      "source": [
        "## Running GMM (and K-means)"
      ],
      "metadata": {
        "id": "AJcv2ddEM_zX"
      }
    },
    {
      "cell_type": "code",
      "source": [
        "K = 4"
      ],
      "metadata": {
        "id": "IXZtxX4seTsB"
      },
      "execution_count": null,
      "outputs": []
    },
    {
      "cell_type": "code",
      "source": [
        "# run K-means just for fun\n",
        "Rnk, Kmus = runKMeans(K, heart)\n",
        "plotCurrent((heart - heart_mean) @ h_eigvecs, Rnk, (Kmus - heart_mean) @ h_eigvecs)"
      ],
      "metadata": {
        "id": "xiWMgFFZMscU",
        "colab": {
          "base_uri": "https://localhost:8080/",
          "height": 265
        },
        "outputId": "0288e2f4-bdd1-44f6-f451-c6af102dd04a"
      },
      "execution_count": null,
      "outputs": [
        {
          "output_type": "display_data",
          "data": {
            "image/png": "[encoded data removed]",
            "text/plain": [
              "<Figure size 432x288 with 1 Axes>"
            ]
          },
          "metadata": {
            "needs_background": "light"
          }
        }
      ]
    },
    {
      "cell_type": "code",
      "source": [
        "# run GMM on 2 PCs\n",
        "# mixture params, means, covariances, responsibility\n",
        "# print(((Kmus - heart_mean) @ h_eigvecs)[:, 0:3])\n",
        "pi, mu, cov, r = runGMM(K, heart_pc[:, 0:3], initialMus=((Kmus - heart_mean) @ h_eigvecs)[:, 0:3])\n",
        "# plotCurrentGMM(heart_pc, r, mu, cov)"
      ],
      "metadata": {
        "colab": {
          "base_uri": "https://localhost:8080/",
          "height": 490
        },
        "id": "HxV7GlK1ZymM",
        "outputId": "2ecf3259-013e-4f52-aa28-cd32f7b6c26d"
      },
      "execution_count": null,
      "outputs": [
        {
          "output_type": "stream",
          "name": "stderr",
          "text": [
            "/usr/local/lib/python3.7/dist-packages/ipykernel_launcher.py:12: RuntimeWarning: invalid value encountered in true_divide\n",
            "  if sys.path[0] == '':\n",
            "/usr/local/lib/python3.7/dist-packages/ipykernel_launcher.py:14: RuntimeWarning: divide by zero encountered in double_scalars\n",
            "  \n"
          ]
        },
        {
          "output_type": "error",
          "ename": "ValueError",
          "evalue": "ignored",
          "traceback": [
            "\u001b[0;31m---------------------------------------------------------------------------\u001b[0m",
            "\u001b[0;31mValueError\u001b[0m                                Traceback (most recent call last)",
            "\u001b[0;32m<ipython-input-385-f7df035db9c3>\u001b[0m in \u001b[0;36m<module>\u001b[0;34m()\u001b[0m\n\u001b[1;32m      2\u001b[0m \u001b[0;31m# mixture params, means, covariances, responsibility\u001b[0m\u001b[0;34m\u001b[0m\u001b[0;34m\u001b[0m\u001b[0;34m\u001b[0m\u001b[0m\n\u001b[1;32m      3\u001b[0m \u001b[0;31m# print(((Kmus - heart_mean) @ h_eigvecs)[:, 0:3])\u001b[0m\u001b[0;34m\u001b[0m\u001b[0;34m\u001b[0m\u001b[0;34m\u001b[0m\u001b[0m\n\u001b[0;32m----> 4\u001b[0;31m \u001b[0mpi\u001b[0m\u001b[0;34m,\u001b[0m \u001b[0mmu\u001b[0m\u001b[0;34m,\u001b[0m \u001b[0mcov\u001b[0m\u001b[0;34m,\u001b[0m \u001b[0mr\u001b[0m \u001b[0;34m=\u001b[0m \u001b[0mrunGMM\u001b[0m\u001b[0;34m(\u001b[0m\u001b[0mK\u001b[0m\u001b[0;34m,\u001b[0m \u001b[0mheart_pc\u001b[0m\u001b[0;34m[\u001b[0m\u001b[0;34m:\u001b[0m\u001b[0;34m,\u001b[0m \u001b[0;36m0\u001b[0m\u001b[0;34m:\u001b[0m\u001b[0;36m3\u001b[0m\u001b[0;34m]\u001b[0m\u001b[0;34m,\u001b[0m \u001b[0minitialMus\u001b[0m\u001b[0;34m=\u001b[0m\u001b[0;34m(\u001b[0m\u001b[0;34m(\u001b[0m\u001b[0mKmus\u001b[0m \u001b[0;34m-\u001b[0m \u001b[0mheart_mean\u001b[0m\u001b[0;34m)\u001b[0m \u001b[0;34m@\u001b[0m \u001b[0mh_eigvecs\u001b[0m\u001b[0;34m)\u001b[0m\u001b[0;34m[\u001b[0m\u001b[0;34m:\u001b[0m\u001b[0;34m,\u001b[0m \u001b[0;36m0\u001b[0m\u001b[0;34m:\u001b[0m\u001b[0;36m3\u001b[0m\u001b[0;34m]\u001b[0m\u001b[0;34m)\u001b[0m\u001b[0;34m\u001b[0m\u001b[0;34m\u001b[0m\u001b[0m\n\u001b[0m\u001b[1;32m      5\u001b[0m \u001b[0;31m# plotCurrentGMM(heart_pc, r, mu, cov)\u001b[0m\u001b[0;34m\u001b[0m\u001b[0;34m\u001b[0m\u001b[0;34m\u001b[0m\u001b[0m\n",
            "\u001b[0;32m<ipython-input-384-4ea096313bf4>\u001b[0m in \u001b[0;36mrunGMM\u001b[0;34m(K, X, initialMus)\u001b[0m\n\u001b[1;32m     42\u001b[0m         \u001b[0msigma\u001b[0m \u001b[0;34m=\u001b[0m \u001b[0mnp\u001b[0m\u001b[0;34m.\u001b[0m\u001b[0mclip\u001b[0m\u001b[0;34m(\u001b[0m\u001b[0msigma\u001b[0m\u001b[0;34m,\u001b[0m \u001b[0;36m0\u001b[0m\u001b[0;34m,\u001b[0m \u001b[0;32mNone\u001b[0m\u001b[0;34m)\u001b[0m\u001b[0;34m\u001b[0m\u001b[0;34m\u001b[0m\u001b[0m\n\u001b[1;32m     43\u001b[0m         \u001b[0;32mfor\u001b[0m \u001b[0mi\u001b[0m \u001b[0;32min\u001b[0m \u001b[0mrange\u001b[0m\u001b[0;34m(\u001b[0m\u001b[0mK\u001b[0m\u001b[0;34m)\u001b[0m\u001b[0;34m:\u001b[0m\u001b[0;34m\u001b[0m\u001b[0;34m\u001b[0m\u001b[0m\n\u001b[0;32m---> 44\u001b[0;31m             \u001b[0msigma\u001b[0m\u001b[0;34m[\u001b[0m\u001b[0mi\u001b[0m\u001b[0;34m]\u001b[0m \u001b[0;34m+=\u001b[0m \u001b[0mnp\u001b[0m\u001b[0;34m.\u001b[0m\u001b[0mdiag\u001b[0m\u001b[0;34m(\u001b[0m\u001b[0;36m0.001\u001b[0m\u001b[0;34m,\u001b[0m \u001b[0mD\u001b[0m\u001b[0;34m)\u001b[0m\u001b[0;34m\u001b[0m\u001b[0;34m\u001b[0m\u001b[0m\n\u001b[0m\u001b[1;32m     45\u001b[0m     \u001b[0mcolors\u001b[0m \u001b[0;34m=\u001b[0m \u001b[0mnp\u001b[0m\u001b[0;34m.\u001b[0m\u001b[0margmax\u001b[0m\u001b[0;34m(\u001b[0m\u001b[0mr\u001b[0m\u001b[0;34m,\u001b[0m \u001b[0maxis\u001b[0m\u001b[0;34m=\u001b[0m\u001b[0;36m1\u001b[0m\u001b[0;34m)\u001b[0m\u001b[0;34m\u001b[0m\u001b[0;34m\u001b[0m\u001b[0m\n\u001b[1;32m     46\u001b[0m     \u001b[0mplotCurrentGMM\u001b[0m\u001b[0;34m(\u001b[0m\u001b[0mX\u001b[0m\u001b[0;34m[\u001b[0m\u001b[0;34m:\u001b[0m\u001b[0;34m,\u001b[0m \u001b[0;36m0\u001b[0m\u001b[0;34m:\u001b[0m\u001b[0;36m2\u001b[0m\u001b[0;34m]\u001b[0m\u001b[0;34m,\u001b[0m \u001b[0mr\u001b[0m\u001b[0;34m,\u001b[0m \u001b[0mKmus\u001b[0m\u001b[0;34m[\u001b[0m\u001b[0;34m:\u001b[0m\u001b[0;34m,\u001b[0m \u001b[0;36m0\u001b[0m\u001b[0;34m:\u001b[0m\u001b[0;36m2\u001b[0m\u001b[0;34m]\u001b[0m\u001b[0;34m,\u001b[0m \u001b[0msigma\u001b[0m\u001b[0;34m[\u001b[0m\u001b[0;34m:\u001b[0m\u001b[0;34m,\u001b[0m \u001b[0;36m0\u001b[0m\u001b[0;34m:\u001b[0m\u001b[0;36m2\u001b[0m\u001b[0;34m,\u001b[0m \u001b[0;36m0\u001b[0m\u001b[0;34m:\u001b[0m\u001b[0;36m2\u001b[0m\u001b[0;34m]\u001b[0m\u001b[0;34m)\u001b[0m\u001b[0;34m\u001b[0m\u001b[0;34m\u001b[0m\u001b[0m\n",
            "\u001b[0;32m<__array_function__ internals>\u001b[0m in \u001b[0;36mdiag\u001b[0;34m(*args, **kwargs)\u001b[0m\n",
            "\u001b[0;32m/usr/local/lib/python3.7/dist-packages/numpy/lib/twodim_base.py\u001b[0m in \u001b[0;36mdiag\u001b[0;34m(v, k)\u001b[0m\n\u001b[1;32m    301\u001b[0m         \u001b[0;32mreturn\u001b[0m \u001b[0mdiagonal\u001b[0m\u001b[0;34m(\u001b[0m\u001b[0mv\u001b[0m\u001b[0;34m,\u001b[0m \u001b[0mk\u001b[0m\u001b[0;34m)\u001b[0m\u001b[0;34m\u001b[0m\u001b[0;34m\u001b[0m\u001b[0m\n\u001b[1;32m    302\u001b[0m     \u001b[0;32melse\u001b[0m\u001b[0;34m:\u001b[0m\u001b[0;34m\u001b[0m\u001b[0;34m\u001b[0m\u001b[0m\n\u001b[0;32m--> 303\u001b[0;31m         \u001b[0;32mraise\u001b[0m \u001b[0mValueError\u001b[0m\u001b[0;34m(\u001b[0m\u001b[0;34m\"Input must be 1- or 2-d.\"\u001b[0m\u001b[0;34m)\u001b[0m\u001b[0;34m\u001b[0m\u001b[0;34m\u001b[0m\u001b[0m\n\u001b[0m\u001b[1;32m    304\u001b[0m \u001b[0;34m\u001b[0m\u001b[0m\n\u001b[1;32m    305\u001b[0m \u001b[0;34m\u001b[0m\u001b[0m\n",
            "\u001b[0;31mValueError\u001b[0m: Input must be 1- or 2-d."
          ]
        }
      ]
    },
    {
      "cell_type": "markdown",
      "source": [
        "# Messing Around (cut out)"
      ],
      "metadata": {
        "id": "BvVRBWTpTpa8"
      }
    },
    {
      "cell_type": "code",
      "source": [
        "from sklearn.manifold import TSNE\n",
        "\n",
        "heart_tsne = TSNE(init='pca', learning_rate='auto').fit_transform(heart)"
      ],
      "metadata": {
        "colab": {
          "base_uri": "https://localhost:8080/"
        },
        "id": "-2ON4adgTLt6",
        "outputId": "cede75c9-952e-4397-b263-60ebf8c1d5c6"
      },
      "execution_count": null,
      "outputs": [
        {
          "output_type": "stream",
          "name": "stderr",
          "text": [
            "/usr/local/lib/python3.7/dist-packages/sklearn/manifold/_t_sne.py:986: FutureWarning: The PCA initialization in TSNE will change to have the standard deviation of PC1 equal to 1e-4 in 1.2. This will ensure better convergence.\n",
            "  FutureWarning,\n"
          ]
        }
      ]
    },
    {
      "cell_type": "code",
      "source": [
        "heart_tsne\n",
        "plt.scatter(heart_tsne.T[0], heart_tsne.T[1], marker=\".\")\n",
        "plt.title(\"heart t-SNE\")\n",
        "# plt.xlabel(\"x\")\n",
        "# plt.ylabel(\"y\")\n",
        "plt.show()"
      ],
      "metadata": {
        "colab": {
          "base_uri": "https://localhost:8080/",
          "height": 281
        },
        "id": "7YcfGZu9Tt6N",
        "outputId": "a767daad-8cb6-48e4-c8e7-8e518dae71e7"
      },
      "execution_count": null,
      "outputs": [
        {
          "output_type": "display_data",
          "data": {
            "image/png": "[encoded data removed]",
            "text/plain": [
              "<Figure size 432x288 with 1 Axes>"
            ]
          },
          "metadata": {
            "needs_background": "light"
          }
        }
      ]
    }
  ]
}